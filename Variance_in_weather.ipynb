{
 "cells": [
  {
   "cell_type": "code",
   "execution_count": null,
   "metadata": {},
   "outputs": [],
   "source": [
    "import codecademylib3_seaborn\n",
    "import pandas as pd\n",
    "import numpy as np\n",
    "from weather_data import london_data\n",
    "\n"
   ]
  },
  {
   "cell_type": "code",
   "execution_count": null,
   "metadata": {},
   "outputs": [],
   "source": [
    "print(london_data.head()) \n",
    "\n",
    "#print(london_data.iloc[100:200])\n",
    "\n",
    "print(len(london_data))\n",
    "\n",
    "temp= london_data['TemperatureC']\n",
    "\n",
    "average_temp= np.mean(temp)\n",
    "temperature_var=np.var(temp)\n",
    "print(\"The variance of TempratureC is {:.2f}\".format(temperature_var)) \n",
    "\n",
    "temperature_standard_deviation = np.std(temperature_var)\n",
    "print('The standard deviation of TemperatureC is {}'.format(temperature_standard_deviation))\n",
    "\n",
    "print(london_data.head()) \n",
    "\n",
    "june = london_data.loc[london_data[\"month\"] == 6][\"TemperatureC\"]\n",
    "\n",
    "july = london_data.loc[london_data[\"month\"] == 7][\"TemperatureC\"]\n",
    "\n",
    "mean_temperature_june=np.mean(june)\n",
    "mean_temperature_july=np.mean(july)\n",
    "\n",
    "print(\"Mean temperature of of June is {}\".format(mean_temperature_june))\n",
    "print(\"Mean temperature of of July is {}\".format(mean_temperature_july))\n",
    "\n",
    "\n",
    "\n",
    "\n",
    "std_temperature_june=np.std(june)\n",
    "std_temperature_july=np.std(july)\n",
    "\n",
    "print(\"standard deviation of  temperature of  June is {}\".format(std_temperature_june))\n",
    "\n",
    "print(\"standard deviation of  temperature of July is {}\".format(std_temperature_july))\n",
    "\n",
    "\n",
    "\n",
    "for i in range(1, 13):\n",
    "  month = london_data.loc[london_data[\"month\"] == i][\"TemperatureC\"]\n",
    "  print(\"The mean temperature in month \"+str(i) +\" is \"+ str(np.mean(month)))\n",
    "    \n",
    "  print(\"The standard deviation of temperature in month \"+str(i) +\" is \"+ '{}'.format(np.std(month))+\"\\n\")\n",
    "\n",
    "\n",
    "print(london_data.loc[london_data[\"hour\"]][\"TemperatureC\"])"
   ]
  }
 ],
 "metadata": {
  "kernelspec": {
   "display_name": "Python 3",
   "language": "python",
   "name": "python3"
  },
  "language_info": {
   "codemirror_mode": {
    "name": "ipython",
    "version": 3
   },
   "file_extension": ".py",
   "mimetype": "text/x-python",
   "name": "python",
   "nbconvert_exporter": "python",
   "pygments_lexer": "ipython3",
   "version": "3.7.6"
  }
 },
 "nbformat": 4,
 "nbformat_minor": 4
}
